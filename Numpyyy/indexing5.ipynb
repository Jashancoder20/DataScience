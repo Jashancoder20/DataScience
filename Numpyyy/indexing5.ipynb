import numpy as np


myarr=np.array([[1,2,3],[4,5,6],[7,8,9],[11,12,13]])


flat = myarr.flatten()


flat


flat[3:6]


flat[:5]


flat[3:]


flat[::2]


#Slicing returns a view not a copy#


b=flat[3:7]


b


b[0]=4444


flat


#how to copy#


flaat=([1,2,3,4,5,6,7])


b=flaat[3:6].copy()


b


b[0]=123


flaat


arr=np.array([1,2,45,43,78,32,87])
arr


arr[[1,4,6]]


arr[arr>33]



