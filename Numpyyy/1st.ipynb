import numpy as np


l1=[1,2,3]
l2=[4,5,6]
list(zip(l1,l2))


arr1=np.array([1,2,3])
arr2=np.array([1,2,3],[4,5,6])
print(arr1)
print(arr2)



