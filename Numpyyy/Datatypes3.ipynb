import numpy as np


arr=np.array([1,2,3,44,54])


arr.dtype


arr.astype("float64")


arr2=np.array([1,2,3,44,54],dtype="float32")


arr2


arr.nbytes


arr2.nbytes



