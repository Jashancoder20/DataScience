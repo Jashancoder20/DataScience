import numpy as np


np.random



np.random.rand()       # Single float between 0 and 1
np.random.rand(5)      # 1D array of 5 floats
np.random.rand(2, 3)   # 2D array of shape (2, 3)



np.random.randint(1, 10)             # Single int from 1 to 9
np.random.randint(1, 10, size=5)     # Array of 5 ints
np.random.randint(1, 10, size=(2,3)) # 2D array of ints



np.random.choice([10, 20, 30, 40])                 # One element
np.random.choice([10, 20, 30, 40], size=3)         # Random 3 elements
np.random.choice([10, 20, 30, 40], size=3, replace=False)  # No repeats



