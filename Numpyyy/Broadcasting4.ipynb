import numpy as np


arr=np.array([1,2,3,4,5])


arr


result=arr**2
print(result)



result+=10


result


arr1 = np.array([[1, 2, 3], [4, 5, 6]])
arr2 = np.array([1, 2, 3])

result = arr1 + arr2  # Broadcasting arr2 across arr1
print(result)
# Output:
# [[2 4 6]
#  [5 7 9]]



