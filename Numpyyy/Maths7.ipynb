import numpy as np


arr=np.array([2,3,6,4,2])


np.mean(arr)


np.min(arr)


np.max(arr)


np.std(arr)


np.var(arr)


np.sum(arr)


np.prod(arr)


np.median(arr)


np.percentile(arr,50)


np.argmax(arr)


np.argmin(arr)


np.corrcoef(arr)


np.unique(arr)


np.diff(arr)


np.cumsum(arr)


np.linspace(0,10,5)


np.log(arr)


np.exp(arr)



