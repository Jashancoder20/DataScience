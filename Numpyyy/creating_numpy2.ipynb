import numpy as np


arr = np.array([1,2,3])


arr


arr1=np.array([1,2,3])
arr2=np.array([[1,2,3],[4,5,6]])
print(arr1)
print(arr2)


np.zeros((3,4))


np.ones((3,5))


np.full((2,2),7)


#Identity Matrix#


np.eye(4)


np.arange(1,10,1)


np.arange(1,100,2)


np.linspace(1,100,5)


myarr=np.array([[1,2,3],[4,5,6],[7,8,9],[11,12,13]])


myarr


myarr.shape


myarr.size


#dimension#


myarr.ndim


myarr.dtype


myarr=np.array([[1,2,3],[4,5,6],[7,8,9],[11,12,13]],dtype='float32')


myarr


n=myarr.astype('float64')


n.dtype


myarr.dtype


myarr=np.array([[1,2,3],[4,5,6],[7,8,9],[11,12,13]])
myarr.shape



myarr.reshape((3,4))


myarr.reshape((2,6))


myarr.flatten()






