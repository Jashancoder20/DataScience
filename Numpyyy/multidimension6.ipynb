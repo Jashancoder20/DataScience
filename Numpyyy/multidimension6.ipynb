import numpy as np


arr=np.array([[1,2,3],[4,5,6],[7,8,9]])


arr


arr[0]


arr[1]


arr[0,0]


arr[1,2]


np.sum(arr,axis=0)


np.sum(arr,axis=1)


#indexing


arr[0:2]


arr[0:2,1:3]


arr[0:2,0:2]


#indexing in 3D arrays


arr3D = np.array([[[1, 2, 3], [4, 5, 6]],
                  [[7, 8, 9], [10, 11, 12]]])

# Output of arr3D.shape is → (depth, rows, columns)
print(arr3D.shape)  # Output: (2, 2, 3) 


arr3D


arr3D[1,1,2]


arr3D[1,0:2,2]


arr3D[:,0,:]


arr3D[:,0,:]=0


arr3D


arr3D[:,1,:]=1


arr3D
