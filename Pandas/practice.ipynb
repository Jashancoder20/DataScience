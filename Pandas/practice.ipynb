import pandas as pd


df = pd.read_csv("data3.csv")


df


df2=df[df["IMDb"]>6]


df2


df3=df2.reset_index(drop=True)


df3


df3.to_csv("Jashan.csv")



