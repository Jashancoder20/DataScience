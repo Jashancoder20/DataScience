import pandas as pd


df = pd.read_csv("data3.csv")


df


df=df[df['IMDb']>6.0]


df


df.to_csv('data_updated.csv')


df.to_csv('data_updated1.csv',index=False)


df = pd.read_json("data.json")


# for json rewatch



