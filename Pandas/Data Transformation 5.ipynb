import pandas as pd


df=pd.read_csv("data3.csv")


df.sort_values("Year")


df.sort_values("Year",ascending=False)


df2=df.sort_values(["Year","IMDb"]).copy()


df2


df2.reset_index()


df2.reset_index(drop=True)


df2.reset_index(drop=True,inplace=True)





df2


df2.sort_index()


df2["Rank"]=df2["IMDb"].rank()


df2


df2["Rank"]=df2["IMDb"].rank(ascending=False,method="dense")


df2


df = df[["Film", "Actor", "Year", "Genre", "IMDb", "BoxOffice(INR Crore)"]] 


df



