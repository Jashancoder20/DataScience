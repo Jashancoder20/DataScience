import pandas as pd


employees = pd.DataFrame({
    "EmpID": [1, 2, 3],
    "Name": ["Alice", "Bob", "Charlie"],
    "DeptID": [10, 20, 30]
})



employees


departments = pd.DataFrame({
    "DeptID": [10, 20, 40],
    "DeptName": ["HR", "Engineering", "Marketing"]
})


departments


pd.merge(employees,departments,on="DeptID")


pd.merge(employees,departments,on="DeptID",how='left')


pd.merge(employees,departments,on="DeptID",how='right')


pd.merge(employees, departments, on="DeptID", how="outer")


df1 = pd.DataFrame({"Name": ["Alice", "Bob"],"Score":[22,99]})
df2 = pd.DataFrame({"Name": ["Charlie", "David"],"age":[10,33]})

pd.concat([df1, df2])


pd.concat([df1, df2],axis=1)
