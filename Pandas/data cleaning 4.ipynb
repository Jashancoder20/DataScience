import pandas as pd


df=pd.read_csv("data_cleaning_sample4.csv")


df


df.isnull()


df.isnull().sum()


df.dropna()


df.dropna(axis=1)


df.fillna(0)


df["Age"].fillna(df["Age"].mean())


df.ffill


df.bfill


df.fillna(method='ffill')


df.duplicated()


df.drop_duplicates()


df.duplicated(subset=["Name", "Age"])


#not all string methods can be applied


df["Name"].str.lower()


# Checks if 'delhi' is in the city name, case-insensitive
df["City"].str.contains("delhi",case=False)


type(df["City"].str.contains("delhi",case=False))


df["Email"].str.split("@")


df2=df.dropna().copy()


df2


df2["Age"]=df2["Age"].astype(int)


df2


df2.info()


# df["Date"] = pd.to_datetime(df["Date"])
# df["Category"] = df["Category"].astype("category")


df2["Age Group"]=df2["Age"].apply(lambda x : "Adult" if x>25 else "Minor")


df2


def isminor(x):
    return "Adult" if x >= 25 else "Minor"
df2["Age Group"] = df2["Age"].apply(isminor)


df2


gender_map={"M":"Male","F":"Female"}
df2["Gender"]=df2["Gender"].map(gender_map)


df2


df2["City"]=df2["City"].replace({"Delhi":"New Delhi","Mumbai":"New Mumbai"})


df2



