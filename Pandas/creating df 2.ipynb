import pandas as pd


data=[["Jashan",78],["Anushka",88]]


data


pd.DataFrame(data,columns=["Name","Marks"])


data={"a":[1,2,3],"b":[4,5,6]}


data


pd.DataFrame(data)


import numpy as np


arr=np.array([[1,2],[3,4]])


pd.DataFrame(arr,columns=["A","B"])


df=pd.read_excel("data.xlsx")


df


df=pd.read_csv("data.csv")


df


df=pd.read_json("data.json")


url = "https://raw.githubusercontent.com/mwaskom/seaborn-data/master/tips.csv"
df = pd.read_csv(url)


df


df.head()


df.tail()


df.info()


df.describe()


df.shape


import sqlite3

conn = sqlite3.connect("mydb.sqlite")
df = pd.read_sql("SELECT * FROM users", conn)



