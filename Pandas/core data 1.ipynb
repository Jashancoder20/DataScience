import pandas as pd


s1 = pd.Series([71, 84, 56, 23, 56, 98, 56])


type(s1)


print(s1)


s2 = pd.Series([71, 84, 56, 23, 56, 98, 56], index=["Harry", "Shubh", "Rohan", "Aakash", "Kirti", "John", "Rehan"])


s2


s2["Harry"]


s2["Rohan"]


data = {
    "name": ["Alice", "Bob", "Charlie"],
    "age": [25, 30, 35],
    "city": ["Delhi", "Mumbai", "Bangalore"]
}


df = pd.DataFrame(data)


df


df.index


df.columns



