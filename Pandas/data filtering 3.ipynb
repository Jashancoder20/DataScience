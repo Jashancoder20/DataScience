import pandas as pd


df=pd.read_csv("data3.csv")


df


df["Actor"]


df[["Actor","IMDb"]]


df.loc[1]#by label


df.iloc[1]#by index


df.loc[7,"IMDb"]


df.iloc[7,5]


df.loc[0:2,["Actor","Film","Year"]]#last range included


df.iloc[0:2,0:2]#last range not included


#optimized for one element


df.at[0,"Actor"]


df.iat[0,0]


df[df["IMDb"]>6]


df[(df["IMDb"]>6)&(df["Year"]>2018)]





df[(df["IMDb"]>6)|(df["Year"]>2018)]


#QUERY


df.query("IMDb>6 and Year > 2018")


#String values must be in quotes like shah rukh khan


df.query("Actor =='Shah Rukh Khan'")


#Use backticks for column names with spaces or special characters


#example df.query("`first name` == 'Alice'")


#Use these:

# and, or, not — instead of &, |, ~
# ==, !=, <, >, <=, >=


#Chained comparisons
df.query("6<=IMDb<=7")


# Avoid using reserved keywords as column names
# If you have a column named class, lambda, etc., you’ll need to use backticks:
# df.query("`class` == 'Physics'")


#Case Sensitive


#.query() returns a copy, not a view


df


df2=df[(df["IMDb"]>6)&(df["Year"]>2018)]


df2


df2.loc[7,"Actor"]="Jashan"


df2


df


#but other dont use copy


# You can use @ to reference Python variables
# To pass external variables into .query():
# age_limit = 30
# df.query("age > @age_limit")



