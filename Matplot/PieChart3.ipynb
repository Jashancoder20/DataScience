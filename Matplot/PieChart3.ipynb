import matplotlib.pyplot as plt


plt.style.use("ggplot")


labels = ["Sachin", "Sehwag", "Kohli", "Yuvraj"]
runs = [18000, 8000, 12000, 9500]

plt.title("Carrer Runs")
plt.pie(runs,labels=labels)


#HTML COLOR  CODE COLOR TO FIND

colors = ['#ff9999','#66b3ff','#99ff99','#ffcc99']
plt.pie(runs,labels=labels,colors=colors)


# PIE CHART WEDGEPROPS
plt.pie(runs,labels=labels,colors=colors,
        wedgeprops={'edgecolor':'black','linewidth':3,'linestyle':':','fill':True}
       )


# PIE CHART WEDGEPROPS
plt.pie(runs,labels=labels,colors=colors,
        wedgeprops={'edgecolor':'black','linewidth':3,'linestyle':':','fill':False}
       )


#Link given


explode=[0.2,0,0,0]
plt.pie(runs,labels=labels,explode=explode,colors=colors)
plt.title("RUNS")


explode=[0.2,0,0,0]
plt.pie(runs,labels=labels,explode=explode,colors=colors,shadow=True)
plt.title("RUNS")


explode=[0.2,0,0,0]
plt.pie(runs,labels=labels,explode=explode,colors=colors,shadow=True,startangle=90)
plt.title("RUNS")


explode=[0.2,0,0,0]
plt.pie(runs,labels=labels,explode=explode,colors=colors,shadow=True,autopct='%1.1f%%')
plt.title("RUNS")


# Too many categories
languages = ['Python', 'Java', 'C++', 'JavaScript', 'C#', 'Ruby', 'Go', 'Rust', 'Swift', 'PHP']
usage = [30, 20, 10, 10, 7, 5, 4, 3, 2, 1]

plt.pie(usage, labels=languages, autopct='%1.1f%%', startangle=90)
plt.title("Programming Language Usage (Crowded Example)")
plt.show()



