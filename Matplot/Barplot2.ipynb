import matplotlib.pyplot as plt


years = [1990, 1992, 1994, 1996, 1998, 2000, 2003, 2005, 2007, 2010]
runs =  [500, 700, 1100, 1500, 1800, 1200, 1700, 1300, 900, 1500]


plt.bar(years,runs)
plt.xlabel("Years")
plt.ylabel("Runs Scored")
plt.title("Sachin Tendulkar's Runs")


import numpy as np

sachin = [500, 700, 1100, 1500, 1800, 1200, 1700, 1300, 900, 1500]
sehwag = [0, 200, 900, 1400, 1600, 1800, 1500, 1100, 800, 0]
kohli  = [0, 0, 500, 800, 1100, 1300, 1500, 1800, 1900, 2100]

x = np.arange(len(years))  # index positions
width = 0.25


# The value of width ranges from 0 to 1 (default 0.8); it can go above 1, but bars will start to overlap.


plt.bar(x-width,sachin,width=width,label="Sachin")
plt.bar(x,sehwag,width=width,label="Sehwag")
plt.bar(x+width,kohli,width=width,label="Kohli")

plt.xlabel("Years")
plt.ylabel("Runs Scored")
plt.title("Comparison")
plt.xticks(x,years)   # Show actual year instead of 0,1,2,...
plt.legend()



plt.barh(x-width,sachin,height=width,label="Sachin")
plt.barh(x,sehwag,height=width,label="Sehwag")
plt.barh(x+width,kohli,height=width,label="Kohli")

plt.xlabel("Years")
plt.ylabel("Runs Scored")
plt.title("Comparison")
plt.yticks(x,years)
plt.legend()
#for horizontal


players = ["Sachin", "Sehwag", "Kohli", "Yuvraj"]
runs_5yrs = [500+700+1100+1500+1800, 0+200+900+1400+1600, 0+0+500+800+1100, 300+600+800+1100+900]



plt.barh(players,runs_5yrs,color='skyblue')
plt.xlabel("Runs Scored In 5 Years")
plt.title("Comparison")
plt.tight_layout()


# In bar() → x = categories, y = values
# In barh() → y = categories, x = values


players = ["Sachin", "Sehwag", "Kohli"]
runs = [1500, 1200, 1800]

plt.bar(players, runs, color="skyblue")

# Add labels on top of bars
for i in range(len(players)):
    plt.text(i, runs[i] + 50, str(runs[i]), ha='center')

plt.ylabel("Runs")
plt.title("Runs Scored by Players")
plt.tight_layout()
plt.show()



