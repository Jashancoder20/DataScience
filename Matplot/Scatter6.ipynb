import matplotlib.pyplot as plt


study_hours = [1, 2, 3, 4, 5, 6, 7, 8, 9]
exam_scores = [40, 45, 50, 55, 60, 65, 75, 85, 90]

plt.scatter(study_hours,exam_scores)
plt.xlabel("Study Hours")
plt.ylabel("Exam Scores")
plt.title("Score vs Marks")
plt.grid(True)


color=['red' if score<50 else 'green' for score in exam_scores]
size=[score*2 for score in exam_scores]

plt.scatter(study_hours,exam_scores,c=color,s=size)
plt.title('Colored & Sized Scatter Plot')
plt.xlabel('Study Hours')
plt.ylabel('Exam Score')
plt.grid(True)
plt.show()


# Google: https://matplotlib.org/stable/users/explain/colors/colormaps.html


import numpy as np

# Also works with Numpy Arrays
scores_normalized = np.array(exam_scores)

plt.scatter(study_hours, exam_scores, c=scores_normalized, cmap='viridis')
plt.colorbar(label='Score')
plt.title('Scatter Plot with Colormap')
plt.xlabel('Study Hours')
plt.ylabel('Exam Score')
plt.grid(True)
plt.show()
# cmap adds gradient coloring based on the score. colorbar helps understand what the colors represent.


import matplotlib.pyplot as plt

# Sample data (lists, not NumPy arrays)
study_hours = [1, 2, 3, 4, 5]
exam_scores = [45, 55, 65, 75, 85]

# Use exam_scores directly as color values
plt.scatter(study_hours, exam_scores, c=exam_scores, cmap='viridis')
plt.colorbar(label='Score')

plt.title('Scatter Plot with Colormap (No NumPy)')
plt.xlabel('Study Hours')
plt.ylabel('Exam Score')
plt.grid(True)
plt.show()



plt.scatter(study_hours, exam_scores)

# Add labels
for i in range(len(study_hours)):
    plt.annotate(f'S {i+1}', (study_hours[i]+0.3, exam_scores[i]-0.2))

plt.title('Scatter Plot with Annotations')
plt.xlabel('Study Hours')
plt.ylabel('Exam Score')
plt.grid(True)
plt.show()


# Assume two groups: Class A and Class B
class_a_hours = [2, 4, 6, 8]
class_a_scores = [45, 55, 65, 85]

class_b_hours = [1, 3, 5, 7, 9]
class_b_scores = [40, 50, 60, 70, 90]

plt.scatter(class_a_hours, class_a_scores, label='Class A', color='blue')
plt.scatter(class_b_hours, class_b_scores, label='Class B', color='orange')

plt.title('Scatter Plot: Class A vs Class B')
plt.xlabel('Study Hours')
plt.ylabel('Exam Score')
plt.legend()
plt.grid(True)
plt.show()



