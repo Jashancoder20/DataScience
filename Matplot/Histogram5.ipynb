import matplotlib.pyplot as plt


data = [96, 82, 75, 91, 67, 88, 59, 3, 84, 62, 
        90, 77, 68, 94, 56, 7, 7, 91, 70, 85, 
        92, 66, 74, 0, 97, 94, 60, 76, 83, 
        93, 78, 71, 58, 86, 72, 3, 69, 65, 98, 
        57, 99, 55, 81, 53, 52, 54, 1, 50, 100]



plt.hist(data,bins=5,edgecolor='black')
plt.xlabel("Marks")
plt.ylabel("Frequency")


ages = [
    34, 28, 36, 45, 27, 27, 45, 37, 25, 35,
    25, 25, 32, 10, 12, 24, 19, 33, 20, 15,
    44, 27, 30, 15, 24, 31, 18, 33, 23, 27,
    23, 48, 29, 19, 38, 17, 32, 10, 16, 31,
    37, 31, 28, 26, 15, 22, 25, 40, 33, 12,
    33, 26, 23, 36, 40, 39, 21, 26, 33, 39,
    25, 28, 18, 18, 38, 43, 29, 40, 33, 23,
    33, 45, 29, 45, 3, 38, 30, 27, 30, 10,
    27, 33, 44, 24, 21, 24, 39, 33, 24, 35,
    30, 39, 22, 26, 26, 15, 32, 32, 30, 27
]



bins=[10,20,30,40,50,60,70]
plt.hist(ages,bins=bins,edgecolor='black')
plt.title('Age Distribution of YouTube Viewers')
plt.xlabel('Age Group')
plt.ylabel('Number of Viewers')
plt.grid(True,alpha=0.8,linestyle='--')



bins=[10,20,30,40,50,60,70]
plt.hist(ages,bins=bins,edgecolor='black')
plt.axvline(35,color='red',linestyle=':',linewidth=2,label="Average")
plt.title('Age Distribution of YouTube Viewers')
plt.xlabel('Age Group')
plt.ylabel('Number of Viewers')
plt.grid(True,alpha=0.8,linestyle='--')
plt.legend()



