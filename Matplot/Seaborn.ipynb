import seaborn as sns
import matplotlib.pyplot as plt


sns.set_theme(style="darkgrid")


import numpy as np

x = np.array([0, 2, 3, 4, 5, 6, 7, 8, 9 ,10, 60])
y = np.sin(x)

sns.lineplot(x=x, y=y)
plt.title('Beautiful Line Plot')
plt.show()


print(sns.get_dataset_names())


tips = sns.load_dataset('tips')
print(tips.head())


sns.lineplot(x="total_bill", y="tip", data=tips)
plt.title('Line Plot Example')
plt.show()



sns.scatterplot(x="total_bill", y="tip", data=tips,hue="time")
plt.title('Scatter Plot with Color by Time')
plt.show()


sns.barplot(x="day", y="total_bill", data=tips)
plt.title('Average Bill per Day')
plt.show()


sns.boxplot(x="day", y="total_bill", data=tips)
plt.title('Boxplot of Total Bill per Day')
plt.show()


flights = sns.load_dataset('flights')
pivot_table = flights.pivot(index="month",columns="year",values= "passengers")

sns.heatmap(pivot_table, fmt="d", cmap="YlGnBu")
plt.title('Heatmap of Passengers')
plt.show()


print(flights.head())


import pandas as pd

df = pd.DataFrame({
    "age": [22, 25, 47, 52, 46, 56, 55, 60, 34, 43],
    "salary": [25000, 27000, 52000, 60000, 58000, 62000, 61000, 65000, 38000, 45000],
    "gender": ["M", "F", "M", "F", "F", "M", "M", "F", "F", "M"]
})

sns.scatterplot(x="age", y="salary", hue="gender", data=df)
plt.title('Salary vs Age Scatter Plot')
plt.show()



